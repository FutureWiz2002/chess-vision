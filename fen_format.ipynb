{
 "cells": [
  {
   "cell_type": "code",
   "execution_count": 2,
   "metadata": {},
   "outputs": [
    {
     "data": {
      "text/plain": [
       "'rnbqkbnr/pppppppp/////PPPPPPPP/RNBQKBNR/'"
      ]
     },
     "execution_count": 2,
     "metadata": {},
     "output_type": "execute_result"
    }
   ],
   "source": [
    "# Capitalized letters represent white peices, the rests are black pieces\n",
    "\n",
    "current_board = [\n",
    "    [\"r\",\"n\",\"b\",\"q\",\"k\",\"b\",\"n\",\"r\"],\n",
    "    [\"p\",\"p\",\"p\",\"p\",\"p\",\"p\",\"p\",\"p\"],\n",
    "    [\"-\",\"-\",\"-\",\"-\",\"-\",\"-\",\"-\",\"-\"],\n",
    "    [\"-\",\"-\",\"-\",\"-\",\"-\",\"-\",\"-\",\"-\"],\n",
    "    [\"-\",\"-\",\"-\",\"-\",\"-\",\"-\",\"-\",\"-\"],\n",
    "    [\"-\",\"-\",\"-\",\"-\",\"-\",\"-\",\"-\",\"-\"],\n",
    "    [\"P\",\"P\",\"P\",\"P\",\"P\",\"P\",\"P\",\"P\"],\n",
    "    [\"R\",\"N\",\"B\",\"Q\",\"K\",\"B\",\"N\",\"R\"],\n",
    "]\n",
    "\n",
    "def board_to_fen(state):\n",
    "    '''\n",
    "    board_to_fen takes in a chess_board and returns the FEN format for analysis\n",
    "    chess_board -> FEN\n",
    "\n",
    "    where chess_board is a 8*8 2d matrix and with the peices in their respective positions\n",
    "    '''\n",
    "    fen_string = \"\"\n",
    "    is_prev_empty = False\n",
    "\n",
    "    for i in range(len(current_board)):\n",
    "        for j in range(len(current_board)):\n",
    "            empty_count = 0\n",
    "            piece = state[i][j]\n",
    "            if piece != \"-\" and is_prev_empty == False:\n",
    "                fen_string += piece\n",
    "                empty_count = 0\n",
    "            elif piece != \"-\" and is_prev_empty == True:\n",
    "                fen_string += str(empty_count)\n",
    "                empty_count = 0\n",
    "                is_prev_empty = False\n",
    "            else:\n",
    "                empty_count += 1\n",
    "                \n",
    "            \n",
    "        fen_string += \"/\"\n",
    "    return fen_string\n",
    "\n",
    "board_to_fen(current_board)"
   ]
  }
 ],
 "metadata": {
  "kernelspec": {
   "display_name": "Python 3",
   "language": "python",
   "name": "python3"
  },
  "language_info": {
   "codemirror_mode": {
    "name": "ipython",
    "version": 3
   },
   "file_extension": ".py",
   "mimetype": "text/x-python",
   "name": "python",
   "nbconvert_exporter": "python",
   "pygments_lexer": "ipython3",
   "version": "3.10.6"
  }
 },
 "nbformat": 4,
 "nbformat_minor": 2
}
