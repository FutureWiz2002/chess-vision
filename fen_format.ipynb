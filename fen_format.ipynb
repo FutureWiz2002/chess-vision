{
 "cells": [
  {
   "cell_type": "code",
   "execution_count": 17,
   "metadata": {},
   "outputs": [
    {
     "name": "stdout",
     "output_type": "stream",
     "text": [
      "rnbqkbnr/pppppppp/8/8/3P4/8/PPP1PPPP/RNBQKBNR\n"
     ]
    }
   ],
   "source": [
    "# Capitalized letters represent white peices, the rests are black pieces\n",
    "\n",
    "current_board = [\n",
    "    [\"r\",\"n\",\"b\",\"q\",\"k\",\"b\",\"n\",\"r\"],\n",
    "    [\"p\",\"p\",\"p\",\"p\",\"p\",\"p\",\"p\",\"p\"],\n",
    "    [\"-\",\"-\",\"-\",\"-\",\"-\",\"-\",\"-\",\"-\"],\n",
    "    [\"-\",\"-\",\"-\",\"-\",\"-\",\"-\",\"-\",\"-\"],\n",
    "    [\"-\",\"-\",\"-\",\"P\",\"-\",\"-\",\"-\",\"-\"],\n",
    "    [\"-\",\"-\",\"-\",\"-\",\"-\",\"-\",\"-\",\"-\"],\n",
    "    [\"P\",\"P\",\"P\",\"-\",\"P\",\"P\",\"P\",\"P\"],\n",
    "    [\"R\",\"N\",\"B\",\"Q\",\"K\",\"B\",\"N\",\"R\"],\n",
    "]\n",
    "\n",
    "def board_to_fen(state):\n",
    "    '''\n",
    "    board_to_fen takes in a chess_board and returns the FEN format for analysis\n",
    "    chess_board -> FEN\n",
    "\n",
    "    where chess_board is a 8*8 2d matrix and with the peices in their respective positions\n",
    "    '''\n",
    "    fen_string = \"\"\n",
    "    empty_count =0\n",
    "\n",
    "    for row in state:\n",
    "        for square in row:\n",
    "            if square != \"-\":\n",
    "                if empty_count > 0:\n",
    "                    fen_string += str(empty_count)\n",
    "                    empty_count = 0\n",
    "                fen_string += square\n",
    "            else:\n",
    "                empty_count += 1\n",
    "        if empty_count > 0:\n",
    "            fen_string += str(empty_count)\n",
    "            empty_count = 0\n",
    "        fen_string += \"/\"\n",
    "\n",
    "    fen_string = fen_string[:-1]  # Remove the trailing slash\n",
    "    return fen_string\n",
    "\n",
    "\n",
    "print(board_to_fen(current_board))"
   ]
  },
  {
   "cell_type": "code",
   "execution_count": null,
   "metadata": {},
   "outputs": [],
   "source": [
    "def fen_to_board(state):\n",
    "    "
   ]
  }
 ],
 "metadata": {
  "kernelspec": {
   "display_name": "Python 3",
   "language": "python",
   "name": "python3"
  },
  "language_info": {
   "codemirror_mode": {
    "name": "ipython",
    "version": 3
   },
   "file_extension": ".py",
   "mimetype": "text/x-python",
   "name": "python",
   "nbconvert_exporter": "python",
   "pygments_lexer": "ipython3",
   "version": "3.10.6"
  }
 },
 "nbformat": 4,
 "nbformat_minor": 2
}
